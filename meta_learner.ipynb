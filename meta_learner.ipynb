{
 "cells": [
  {
   "cell_type": "code",
   "execution_count": 1,
   "outputs": [],
   "source": [
    "%load_ext autoreload\n",
    "%autoreload 2"
   ],
   "metadata": {
    "collapsed": false,
    "ExecuteTime": {
     "end_time": "2023-08-22T11:40:26.447104Z",
     "start_time": "2023-08-22T11:40:26.434729Z"
    }
   }
  },
  {
   "cell_type": "code",
   "execution_count": 2,
   "outputs": [
    {
     "name": "stderr",
     "output_type": "stream",
     "text": [
      "/home/stud03/data_science_challenge/Louis/venv/lib/python3.8/site-packages/shap/utils/_clustering.py:35: NumbaDeprecationWarning: The 'nopython' keyword argument was not supplied to the 'numba.jit' decorator. The implicit default value for this argument is currently False, but it will be changed to True in Numba 0.59.0. See https://numba.readthedocs.io/en/stable/reference/deprecation.html#deprecation-of-object-mode-fall-back-behaviour-when-using-jit for details.\n",
      "  def _pt_shuffle_rec(i, indexes, index_mask, partition_tree, M, pos):\n",
      "/home/stud03/data_science_challenge/Louis/venv/lib/python3.8/site-packages/shap/utils/_clustering.py:54: NumbaDeprecationWarning: The 'nopython' keyword argument was not supplied to the 'numba.jit' decorator. The implicit default value for this argument is currently False, but it will be changed to True in Numba 0.59.0. See https://numba.readthedocs.io/en/stable/reference/deprecation.html#deprecation-of-object-mode-fall-back-behaviour-when-using-jit for details.\n",
      "  def delta_minimization_order(all_masks, max_swap_size=100, num_passes=2):\n",
      "/home/stud03/data_science_challenge/Louis/venv/lib/python3.8/site-packages/shap/utils/_clustering.py:63: NumbaDeprecationWarning: The 'nopython' keyword argument was not supplied to the 'numba.jit' decorator. The implicit default value for this argument is currently False, but it will be changed to True in Numba 0.59.0. See https://numba.readthedocs.io/en/stable/reference/deprecation.html#deprecation-of-object-mode-fall-back-behaviour-when-using-jit for details.\n",
      "  def _reverse_window(order, start, length):\n",
      "/home/stud03/data_science_challenge/Louis/venv/lib/python3.8/site-packages/shap/utils/_clustering.py:69: NumbaDeprecationWarning: The 'nopython' keyword argument was not supplied to the 'numba.jit' decorator. The implicit default value for this argument is currently False, but it will be changed to True in Numba 0.59.0. See https://numba.readthedocs.io/en/stable/reference/deprecation.html#deprecation-of-object-mode-fall-back-behaviour-when-using-jit for details.\n",
      "  def _reverse_window_score_gain(masks, order, start, length):\n",
      "/home/stud03/data_science_challenge/Louis/venv/lib/python3.8/site-packages/shap/utils/_clustering.py:77: NumbaDeprecationWarning: The 'nopython' keyword argument was not supplied to the 'numba.jit' decorator. The implicit default value for this argument is currently False, but it will be changed to True in Numba 0.59.0. See https://numba.readthedocs.io/en/stable/reference/deprecation.html#deprecation-of-object-mode-fall-back-behaviour-when-using-jit for details.\n",
      "  def _mask_delta_score(m1, m2):\n",
      "/home/stud03/data_science_challenge/Louis/venv/lib/python3.8/site-packages/shap/links.py:5: NumbaDeprecationWarning: The 'nopython' keyword argument was not supplied to the 'numba.jit' decorator. The implicit default value for this argument is currently False, but it will be changed to True in Numba 0.59.0. See https://numba.readthedocs.io/en/stable/reference/deprecation.html#deprecation-of-object-mode-fall-back-behaviour-when-using-jit for details.\n",
      "  def identity(x):\n",
      "/home/stud03/data_science_challenge/Louis/venv/lib/python3.8/site-packages/shap/links.py:10: NumbaDeprecationWarning: The 'nopython' keyword argument was not supplied to the 'numba.jit' decorator. The implicit default value for this argument is currently False, but it will be changed to True in Numba 0.59.0. See https://numba.readthedocs.io/en/stable/reference/deprecation.html#deprecation-of-object-mode-fall-back-behaviour-when-using-jit for details.\n",
      "  def _identity_inverse(x):\n",
      "/home/stud03/data_science_challenge/Louis/venv/lib/python3.8/site-packages/shap/links.py:15: NumbaDeprecationWarning: The 'nopython' keyword argument was not supplied to the 'numba.jit' decorator. The implicit default value for this argument is currently False, but it will be changed to True in Numba 0.59.0. See https://numba.readthedocs.io/en/stable/reference/deprecation.html#deprecation-of-object-mode-fall-back-behaviour-when-using-jit for details.\n",
      "  def logit(x):\n",
      "/home/stud03/data_science_challenge/Louis/venv/lib/python3.8/site-packages/shap/links.py:20: NumbaDeprecationWarning: The 'nopython' keyword argument was not supplied to the 'numba.jit' decorator. The implicit default value for this argument is currently False, but it will be changed to True in Numba 0.59.0. See https://numba.readthedocs.io/en/stable/reference/deprecation.html#deprecation-of-object-mode-fall-back-behaviour-when-using-jit for details.\n",
      "  def _logit_inverse(x):\n",
      "/home/stud03/data_science_challenge/Louis/venv/lib/python3.8/site-packages/shap/utils/_masked_model.py:363: NumbaDeprecationWarning: The 'nopython' keyword argument was not supplied to the 'numba.jit' decorator. The implicit default value for this argument is currently False, but it will be changed to True in Numba 0.59.0. See https://numba.readthedocs.io/en/stable/reference/deprecation.html#deprecation-of-object-mode-fall-back-behaviour-when-using-jit for details.\n",
      "  def _build_fixed_single_output(averaged_outs, last_outs, outputs, batch_positions, varying_rows, num_varying_rows, link, linearizing_weights):\n",
      "/home/stud03/data_science_challenge/Louis/venv/lib/python3.8/site-packages/shap/utils/_masked_model.py:385: NumbaDeprecationWarning: The 'nopython' keyword argument was not supplied to the 'numba.jit' decorator. The implicit default value for this argument is currently False, but it will be changed to True in Numba 0.59.0. See https://numba.readthedocs.io/en/stable/reference/deprecation.html#deprecation-of-object-mode-fall-back-behaviour-when-using-jit for details.\n",
      "  def _build_fixed_multi_output(averaged_outs, last_outs, outputs, batch_positions, varying_rows, num_varying_rows, link, linearizing_weights):\n",
      "/home/stud03/data_science_challenge/Louis/venv/lib/python3.8/site-packages/shap/utils/_masked_model.py:428: NumbaDeprecationWarning: The 'nopython' keyword argument was not supplied to the 'numba.jit' decorator. The implicit default value for this argument is currently False, but it will be changed to True in Numba 0.59.0. See https://numba.readthedocs.io/en/stable/reference/deprecation.html#deprecation-of-object-mode-fall-back-behaviour-when-using-jit for details.\n",
      "  def _init_masks(cluster_matrix, M, indices_row_pos, indptr):\n",
      "/home/stud03/data_science_challenge/Louis/venv/lib/python3.8/site-packages/shap/utils/_masked_model.py:439: NumbaDeprecationWarning: The 'nopython' keyword argument was not supplied to the 'numba.jit' decorator. The implicit default value for this argument is currently False, but it will be changed to True in Numba 0.59.0. See https://numba.readthedocs.io/en/stable/reference/deprecation.html#deprecation-of-object-mode-fall-back-behaviour-when-using-jit for details.\n",
      "  def _rec_fill_masks(cluster_matrix, indices_row_pos, indptr, indices, M, ind):\n",
      "/home/stud03/data_science_challenge/Louis/venv/lib/python3.8/site-packages/shap/maskers/_tabular.py:186: NumbaDeprecationWarning: The 'nopython' keyword argument was not supplied to the 'numba.jit' decorator. The implicit default value for this argument is currently False, but it will be changed to True in Numba 0.59.0. See https://numba.readthedocs.io/en/stable/reference/deprecation.html#deprecation-of-object-mode-fall-back-behaviour-when-using-jit for details.\n",
      "  def _single_delta_mask(dind, masked_inputs, last_mask, data, x, noop_code):\n",
      "/home/stud03/data_science_challenge/Louis/venv/lib/python3.8/site-packages/shap/maskers/_tabular.py:197: NumbaDeprecationWarning: The 'nopython' keyword argument was not supplied to the 'numba.jit' decorator. The implicit default value for this argument is currently False, but it will be changed to True in Numba 0.59.0. See https://numba.readthedocs.io/en/stable/reference/deprecation.html#deprecation-of-object-mode-fall-back-behaviour-when-using-jit for details.\n",
      "  def _delta_masking(masks, x, curr_delta_inds, varying_rows_out,\n",
      "/home/stud03/data_science_challenge/Louis/venv/lib/python3.8/site-packages/shap/maskers/_image.py:175: NumbaDeprecationWarning: The 'nopython' keyword argument was not supplied to the 'numba.jit' decorator. The implicit default value for this argument is currently False, but it will be changed to True in Numba 0.59.0. See https://numba.readthedocs.io/en/stable/reference/deprecation.html#deprecation-of-object-mode-fall-back-behaviour-when-using-jit for details.\n",
      "  def _jit_build_partition_tree(xmin, xmax, ymin, ymax, zmin, zmax, total_ywidth, total_zwidth, M, clustering, q):\n",
      "/home/stud03/data_science_challenge/Louis/venv/lib/python3.8/site-packages/shap/explainers/_partition.py:676: NumbaDeprecationWarning: The 'nopython' keyword argument was not supplied to the 'numba.jit' decorator. The implicit default value for this argument is currently False, but it will be changed to True in Numba 0.59.0. See https://numba.readthedocs.io/en/stable/reference/deprecation.html#deprecation-of-object-mode-fall-back-behaviour-when-using-jit for details.\n",
      "  def lower_credit(i, value, M, values, clustering):\n",
      "The 'nopython' keyword argument was not supplied to the 'numba.jit' decorator. The implicit default value for this argument is currently False, but it will be changed to True in Numba 0.59.0. See https://numba.readthedocs.io/en/stable/reference/deprecation.html#deprecation-of-object-mode-fall-back-behaviour-when-using-jit for details.\n",
      "The 'nopython' keyword argument was not supplied to the 'numba.jit' decorator. The implicit default value for this argument is currently False, but it will be changed to True in Numba 0.59.0. See https://numba.readthedocs.io/en/stable/reference/deprecation.html#deprecation-of-object-mode-fall-back-behaviour-when-using-jit for details.\n"
     ]
    }
   ],
   "source": [
    "import shap\n",
    "import pandas as pd\n",
    "import copy\n",
    "from tqdm import tqdm\n",
    "from preprocessing.preprocessing import generate_data, load_data\n",
    "from model.meta_learner import split_randomly, split_groupIDs, train_models, make_predictions, get_results, kfold_cv, plot_driveIDs, custom_shap_bar_plot, train_models_weighted, export_to_streamlit"
   ],
   "metadata": {
    "collapsed": false,
    "ExecuteTime": {
     "end_time": "2023-08-22T11:40:30.760831Z",
     "start_time": "2023-08-22T11:40:28.194617Z"
    }
   }
  },
  {
   "cell_type": "markdown",
   "source": [
    "# Create Dataset"
   ],
   "metadata": {
    "collapsed": false
   }
  },
  {
   "cell_type": "code",
   "execution_count": 3,
   "outputs": [
    {
     "name": "stdout",
     "output_type": "stream",
     "text": [
      "(3363154, 179)\n",
      "(3363154, 179)\n",
      "(2715408, 179)\n"
     ]
    }
   ],
   "source": [
    "# retrieve data from sql database and calculate features. Do this only once\n",
    "generate_data(path_sql = '/home/stud03/data_science_challenge/data/kit_telematik_dats.sqlite',save_directory = '/home/stud03/data_science_challenge/data/V4')"
   ],
   "metadata": {
    "collapsed": false,
    "ExecuteTime": {
     "end_time": "2023-08-22T11:00:46.646049Z",
     "start_time": "2023-08-22T10:59:38.586070Z"
    }
   }
  },
  {
   "cell_type": "code",
   "execution_count": null,
   "outputs": [],
   "source": [
    "# load retrieved data\n",
    "df = load_data(save_dir = '/home/stud03/data_science_challenge/data/V4', dropna=False, drop_accel_invalid=True, drop_gyro_invalid=True,drop_gps_invalid=True)\n",
    "df = df.dropna()\n",
    "df = df.drop(columns=['gps_lat', 'gps_long', 'gps_lat_m', 'gps_long_m']) # drop abs coordinate columns"
   ],
   "metadata": {
    "collapsed": false,
    "ExecuteTime": {
     "start_time": "2023-08-22T11:40:38.111824Z"
    }
   }
  },
  {
   "cell_type": "markdown",
   "source": [
    "# Cross Validation - based on groupIDs"
   ],
   "metadata": {
    "collapsed": false
   },
   "outputs": [],
   "execution_count": null
  },
  {
   "cell_type": "code",
   "execution_count": 22,
   "outputs": [
    {
     "name": "stderr",
     "output_type": "stream",
     "text": [
      "100%|██████████| 9/9 [05:54<00:00, 39.40s/it]\n"
     ]
    }
   ],
   "source": [
    "# define target variable\n",
    "target_name = 'target_left'\n",
    "# target_name = 'target_forward'\n",
    "results = pd.DataFrame()\n",
    "\n",
    "# perform cross validation\n",
    "for test_groupID in tqdm([1,2,3,4,5,6,7,8,9]):\n",
    "\n",
    "    # get splits\n",
    "    df_train, df_train_meta, df_test = split_groupIDs(df, test_groupID=test_groupID, generate_nans=True, consider_accel=True, consider_gps=True, consider_gyro=True,  base_learner_size=0.8, exist_prob_train=1, exist_prob_test=1, na_whole_trips=True, chunk_size=30)\n",
    "\n",
    "    # train models\n",
    "    model_dict = train_models_weighted(df_train, df_train_meta, target_name)\n",
    "\n",
    "    # train without weighted models\n",
    "    # model_dict = train_models(df_train, df_train_meta, target_name)\n",
    "\n",
    "    # make predictions\n",
    "    df_y = make_predictions(model_dict, df_test, target_name)\n",
    "\n",
    "    # get results\n",
    "    y_train_avg = df_train[target_name].mean()\n",
    "    df_res = get_results(df_y, df_test, target_name, y_train_avg, meta_only=False)\n",
    "    df_res = df_res.add_suffix(f'_{test_groupID}')\n",
    "    results = pd.concat([results, df_res], axis = 1)"
   ],
   "metadata": {
    "collapsed": false,
    "ExecuteTime": {
     "end_time": "2023-07-09T20:18:09.575670Z",
     "start_time": "2023-07-09T20:12:14.803516Z"
    }
   }
  },
  {
   "cell_type": "code",
   "execution_count": 23,
   "outputs": [
    {
     "data": {
      "text/plain": "                        gps      gyro     accel      meta\nr2                 0.492000  0.851556  0.929000  0.935000\nmae                0.411767  0.213933  0.142178  0.139156\nmse                0.474111  0.123556  0.054333  0.046778\nmae>2              1.538444  0.521889  0.284556  0.313222\nmse>2              2.898444  0.425222  0.167778  0.175444\nmae>3              2.149000  0.746667  0.312556  0.440667\nmse>3              5.176000  0.811444  0.174444  0.297111\nmae>10km/h         0.458333  0.229778  0.151889  0.148444\nmse>10km/h         0.537889  0.134333  0.058333  0.050444\nmax_absolute_diff  1.341556  0.709889  0.394111  0.420333",
      "text/html": "<div>\n<style scoped>\n    .dataframe tbody tr th:only-of-type {\n        vertical-align: middle;\n    }\n\n    .dataframe tbody tr th {\n        vertical-align: top;\n    }\n\n    .dataframe thead th {\n        text-align: right;\n    }\n</style>\n<table border=\"1\" class=\"dataframe\">\n  <thead>\n    <tr style=\"text-align: right;\">\n      <th></th>\n      <th>gps</th>\n      <th>gyro</th>\n      <th>accel</th>\n      <th>meta</th>\n    </tr>\n  </thead>\n  <tbody>\n    <tr>\n      <th>r2</th>\n      <td>0.492000</td>\n      <td>0.851556</td>\n      <td>0.929000</td>\n      <td>0.935000</td>\n    </tr>\n    <tr>\n      <th>mae</th>\n      <td>0.411767</td>\n      <td>0.213933</td>\n      <td>0.142178</td>\n      <td>0.139156</td>\n    </tr>\n    <tr>\n      <th>mse</th>\n      <td>0.474111</td>\n      <td>0.123556</td>\n      <td>0.054333</td>\n      <td>0.046778</td>\n    </tr>\n    <tr>\n      <th>mae&gt;2</th>\n      <td>1.538444</td>\n      <td>0.521889</td>\n      <td>0.284556</td>\n      <td>0.313222</td>\n    </tr>\n    <tr>\n      <th>mse&gt;2</th>\n      <td>2.898444</td>\n      <td>0.425222</td>\n      <td>0.167778</td>\n      <td>0.175444</td>\n    </tr>\n    <tr>\n      <th>mae&gt;3</th>\n      <td>2.149000</td>\n      <td>0.746667</td>\n      <td>0.312556</td>\n      <td>0.440667</td>\n    </tr>\n    <tr>\n      <th>mse&gt;3</th>\n      <td>5.176000</td>\n      <td>0.811444</td>\n      <td>0.174444</td>\n      <td>0.297111</td>\n    </tr>\n    <tr>\n      <th>mae&gt;10km/h</th>\n      <td>0.458333</td>\n      <td>0.229778</td>\n      <td>0.151889</td>\n      <td>0.148444</td>\n    </tr>\n    <tr>\n      <th>mse&gt;10km/h</th>\n      <td>0.537889</td>\n      <td>0.134333</td>\n      <td>0.058333</td>\n      <td>0.050444</td>\n    </tr>\n    <tr>\n      <th>max_absolute_diff</th>\n      <td>1.341556</td>\n      <td>0.709889</td>\n      <td>0.394111</td>\n      <td>0.420333</td>\n    </tr>\n  </tbody>\n</table>\n</div>"
     },
     "execution_count": 23,
     "metadata": {},
     "output_type": "execute_result"
    }
   ],
   "source": [
    "# Print results averaged over all folds for each model\n",
    "print(f'Results for target: {target_name}')\n",
    "cols = ['gps_model', 'gps_weighted_model', 'gyro_model', 'gyro_weighted_model', 'accel_pred', 'meta_model']\n",
    "df_results_cv = pd.DataFrame(columns=cols)\n",
    "for model in cols:\n",
    "    df_results_cv[model] = results[results.columns[results.columns.str.contains(model)]].mean(axis=1)\n",
    "df_results_cv"
   ],
   "metadata": {
    "collapsed": false,
    "ExecuteTime": {
     "end_time": "2023-07-09T20:24:10.183684Z",
     "start_time": "2023-07-09T20:24:10.073253Z"
    }
   }
  },
  {
   "cell_type": "markdown",
   "source": [
    "# Cross Validation - randomly based on driveIDs"
   ],
   "metadata": {
    "collapsed": false,
    "ExecuteTime": {
     "end_time": "2023-08-22T11:06:56.945232Z",
     "start_time": "2023-08-22T11:01:35.843579Z"
    }
   },
   "outputs": [
    {
     "name": "stdout",
     "output_type": "stream",
     "text": [
      "fold 1 out of 5\n",
      "fold 2 out of 5\n",
      "fold 3 out of 5\n",
      "fold 4 out of 5\n",
      "fold 5 out of 5\n"
     ]
    }
   ],
   "execution_count": 5
  },
  {
   "cell_type": "code",
   "execution_count": null,
   "outputs": [],
   "source": [
    "target_name = 'target_left'\n",
    "# target_name = 'target_forward'\n",
    "results = kfold_cv(df, target_name, folds=5, generate_nans=False, consider_accel=True, consider_gyro=True, consider_gps=True, base_learner_size=0.8, exist_prob_train=1, exist_prob_test=1, random_state=42, weighted=True, na_whole_trips=True, chunk_size=30)"
   ],
   "metadata": {
    "collapsed": false
   }
  },
  {
   "cell_type": "code",
   "execution_count": 65,
   "outputs": [
    {
     "data": {
      "text/plain": "                   gps_model  gps_weighted_model  gyro_model   \nr2                   0.57440             0.28720     0.81720  \\\nmae                  0.25214             0.33812     0.17794   \nmse                  0.18040             0.30220     0.07780   \nmae>2                1.39440             0.98100     0.62800   \nmse>2                2.80720             1.58420     0.63660   \nmae>3                1.95300             1.30900     0.87320   \nmse>3                5.11060             2.46280     1.10880   \nmae>10km/h           0.24960             0.30000     0.18120   \nmse>10km/h           0.15860             0.18700     0.07500   \nmax_absolute_diff    3.62920             3.73840     2.14760   \n\n                   gyro_weighted_model  accel_pred  meta_model  \nr2                             0.76780      0.8518     0.90440  \nmae                            0.21044      0.1459     0.12958  \nmse                            0.09840      0.0630     0.04100  \nmae>2                          0.51580      0.4672     0.36740  \nmse>2                          0.46220      0.4982     0.27820  \nmae>3                          0.68700      0.5252     0.47200  \nmse>3                          0.78000      0.6682     0.46100  \nmae>10km/h                     0.21160      0.1512     0.13220  \nmse>10km/h                     0.09340      0.0640     0.03980  \nmax_absolute_diff              2.30560      1.7446     1.62980  ",
      "text/html": "<div>\n<style scoped>\n    .dataframe tbody tr th:only-of-type {\n        vertical-align: middle;\n    }\n\n    .dataframe tbody tr th {\n        vertical-align: top;\n    }\n\n    .dataframe thead th {\n        text-align: right;\n    }\n</style>\n<table border=\"1\" class=\"dataframe\">\n  <thead>\n    <tr style=\"text-align: right;\">\n      <th></th>\n      <th>gps_model</th>\n      <th>gps_weighted_model</th>\n      <th>gyro_model</th>\n      <th>gyro_weighted_model</th>\n      <th>accel_pred</th>\n      <th>meta_model</th>\n    </tr>\n  </thead>\n  <tbody>\n    <tr>\n      <th>r2</th>\n      <td>0.57440</td>\n      <td>0.28720</td>\n      <td>0.81720</td>\n      <td>0.76780</td>\n      <td>0.8518</td>\n      <td>0.90440</td>\n    </tr>\n    <tr>\n      <th>mae</th>\n      <td>0.25214</td>\n      <td>0.33812</td>\n      <td>0.17794</td>\n      <td>0.21044</td>\n      <td>0.1459</td>\n      <td>0.12958</td>\n    </tr>\n    <tr>\n      <th>mse</th>\n      <td>0.18040</td>\n      <td>0.30220</td>\n      <td>0.07780</td>\n      <td>0.09840</td>\n      <td>0.0630</td>\n      <td>0.04100</td>\n    </tr>\n    <tr>\n      <th>mae&gt;2</th>\n      <td>1.39440</td>\n      <td>0.98100</td>\n      <td>0.62800</td>\n      <td>0.51580</td>\n      <td>0.4672</td>\n      <td>0.36740</td>\n    </tr>\n    <tr>\n      <th>mse&gt;2</th>\n      <td>2.80720</td>\n      <td>1.58420</td>\n      <td>0.63660</td>\n      <td>0.46220</td>\n      <td>0.4982</td>\n      <td>0.27820</td>\n    </tr>\n    <tr>\n      <th>mae&gt;3</th>\n      <td>1.95300</td>\n      <td>1.30900</td>\n      <td>0.87320</td>\n      <td>0.68700</td>\n      <td>0.5252</td>\n      <td>0.47200</td>\n    </tr>\n    <tr>\n      <th>mse&gt;3</th>\n      <td>5.11060</td>\n      <td>2.46280</td>\n      <td>1.10880</td>\n      <td>0.78000</td>\n      <td>0.6682</td>\n      <td>0.46100</td>\n    </tr>\n    <tr>\n      <th>mae&gt;10km/h</th>\n      <td>0.24960</td>\n      <td>0.30000</td>\n      <td>0.18120</td>\n      <td>0.21160</td>\n      <td>0.1512</td>\n      <td>0.13220</td>\n    </tr>\n    <tr>\n      <th>mse&gt;10km/h</th>\n      <td>0.15860</td>\n      <td>0.18700</td>\n      <td>0.07500</td>\n      <td>0.09340</td>\n      <td>0.0640</td>\n      <td>0.03980</td>\n    </tr>\n    <tr>\n      <th>max_absolute_diff</th>\n      <td>3.62920</td>\n      <td>3.73840</td>\n      <td>2.14760</td>\n      <td>2.30560</td>\n      <td>1.7446</td>\n      <td>1.62980</td>\n    </tr>\n  </tbody>\n</table>\n</div>"
     },
     "execution_count": 65,
     "metadata": {},
     "output_type": "execute_result"
    }
   ],
   "source": [
    "# Print results averaged over all folds for each model\n",
    "cols = ['gps_model', 'gps_weighted_model', 'gyro_model', 'gyro_weighted_model', 'accel_pred', 'meta_model']\n",
    "df_results_cv = pd.DataFrame(columns=cols)\n",
    "for model in cols:\n",
    "    df_results_cv[model] = results[results.columns[results.columns.str.contains(model)]].mean(axis=1)\n",
    "df_results_cv"
   ],
   "metadata": {
    "collapsed": false,
    "ExecuteTime": {
     "end_time": "2023-08-07T13:37:12.896475Z",
     "start_time": "2023-08-07T13:37:12.790626Z"
    }
   }
  },
  {
   "cell_type": "markdown",
   "source": [
    "# Simple train_base/train_meta/test split"
   ],
   "metadata": {
    "collapsed": false,
    "ExecuteTime": {
     "end_time": "2023-08-22T11:29:11.949801Z",
     "start_time": "2023-08-22T11:27:48.370160Z"
    }
   },
   "outputs": [
    {
     "ename": "ValueError",
     "evalue": "too many values to unpack (expected 1)",
     "output_type": "error",
     "traceback": [
      "\u001B[0;31m---------------------------------------------------------------------------\u001B[0m",
      "\u001B[0;31mValueError\u001B[0m                                Traceback (most recent call last)",
      "Cell \u001B[0;32mIn[18], line 10\u001B[0m\n\u001B[1;32m      7\u001B[0m df_train, df_train_meta, df_test \u001B[38;5;241m=\u001B[39m split_randomly(df, generate_nans\u001B[38;5;241m=\u001B[39m\u001B[38;5;28;01mTrue\u001B[39;00m, consider_accel\u001B[38;5;241m=\u001B[39m\u001B[38;5;28;01mTrue\u001B[39;00m, consider_gyro\u001B[38;5;241m=\u001B[39m\u001B[38;5;28;01mTrue\u001B[39;00m, consider_gps\u001B[38;5;241m=\u001B[39m\u001B[38;5;28;01mTrue\u001B[39;00m, train_size\u001B[38;5;241m=\u001B[39m\u001B[38;5;241m0.8\u001B[39m, base_learner_size\u001B[38;5;241m=\u001B[39m\u001B[38;5;241m0.8\u001B[39m, exist_prob_train\u001B[38;5;241m=\u001B[39m\u001B[38;5;241m1\u001B[39m, exist_prob_test\u001B[38;5;241m=\u001B[39m\u001B[38;5;241m0.9\u001B[39m, na_whole_trips\u001B[38;5;241m=\u001B[39m\u001B[38;5;28;01mFalse\u001B[39;00m, chunk_size\u001B[38;5;241m=\u001B[39m\u001B[38;5;241m30\u001B[39m)\n\u001B[1;32m      9\u001B[0m \u001B[38;5;66;03m# train models\u001B[39;00m\n\u001B[0;32m---> 10\u001B[0m model_dict,  \u001B[38;5;241m=\u001B[39m train_models_weighted(df_train, df_train_meta, target_name)\n\u001B[1;32m     12\u001B[0m \u001B[38;5;66;03m# make predictions\u001B[39;00m\n\u001B[1;32m     13\u001B[0m \u001B[38;5;66;03m# df_y = make_predictions(model_dict, df_test, target_name)\u001B[39;00m\n\u001B[1;32m     15\u001B[0m df_y, X_test_dict \u001B[38;5;241m=\u001B[39m make_predictions(model_dict, df_test, target_name, return_dfs\u001B[38;5;241m=\u001B[39m\u001B[38;5;28;01mTrue\u001B[39;00m) \u001B[38;5;66;03m# in case you also want to get the dictionaries\u001B[39;00m\n",
      "\u001B[0;31mValueError\u001B[0m: too many values to unpack (expected 1)"
     ]
    }
   ],
   "execution_count": 18
  },
  {
   "cell_type": "code",
   "execution_count": 13,
   "outputs": [
    {
     "data": {
      "text/plain": "                   meta_model_pred  accel_pred  gyro_model_pred  \\\nr2                          0.8130      0.7830           0.3520   \nmae                         0.1756      0.1928           0.3488   \nmse                         0.0760      0.0880           0.2630   \nmae>2                       0.5090      0.4740           1.7350   \nmse>2                       0.7120      0.6950           3.4470   \nmae>3                       0.9920      0.5750           2.6700   \nmse>3                       1.6750      1.1040           7.7890   \nmae>10km/h                  0.1760      0.1970           0.3480   \nmse>10km/h                  0.0740      0.0880           0.2580   \nmax_absolute_diff           0.4460      0.4470           0.9210   \n\n                   gps_model_pred  gps_weighted_model_pred  \\\nr2                         0.7020                   0.6590   \nmae                        0.2253                   0.2477   \nmse                        0.1210                   0.1380   \nmae>2                      0.8390                   0.6840   \nmse>2                      1.1590                   0.9170   \nmae>3                      1.4510                   1.2100   \nmse>3                      2.8400                   2.2440   \nmae>10km/h                 0.2030                   0.2250   \nmse>10km/h                 0.0870                   0.1040   \nmax_absolute_diff          0.6370                   0.6870   \n\n                   gyro_weighted_model_pred  \nr2                                   0.2320  \nmae                                  0.4189  \nmse                                  0.3120  \nmae>2                                1.3530  \nmse>2                                2.4190  \nmae>3                                2.1660  \nmse>3                                5.5670  \nmae>10km/h                           0.4140  \nmse>10km/h                           0.3040  \nmax_absolute_diff                    1.0520  ",
      "text/html": "<div>\n<style scoped>\n    .dataframe tbody tr th:only-of-type {\n        vertical-align: middle;\n    }\n\n    .dataframe tbody tr th {\n        vertical-align: top;\n    }\n\n    .dataframe thead th {\n        text-align: right;\n    }\n</style>\n<table border=\"1\" class=\"dataframe\">\n  <thead>\n    <tr style=\"text-align: right;\">\n      <th></th>\n      <th>meta_model_pred</th>\n      <th>accel_pred</th>\n      <th>gyro_model_pred</th>\n      <th>gps_model_pred</th>\n      <th>gps_weighted_model_pred</th>\n      <th>gyro_weighted_model_pred</th>\n    </tr>\n  </thead>\n  <tbody>\n    <tr>\n      <th>r2</th>\n      <td>0.8130</td>\n      <td>0.7830</td>\n      <td>0.3520</td>\n      <td>0.7020</td>\n      <td>0.6590</td>\n      <td>0.2320</td>\n    </tr>\n    <tr>\n      <th>mae</th>\n      <td>0.1756</td>\n      <td>0.1928</td>\n      <td>0.3488</td>\n      <td>0.2253</td>\n      <td>0.2477</td>\n      <td>0.4189</td>\n    </tr>\n    <tr>\n      <th>mse</th>\n      <td>0.0760</td>\n      <td>0.0880</td>\n      <td>0.2630</td>\n      <td>0.1210</td>\n      <td>0.1380</td>\n      <td>0.3120</td>\n    </tr>\n    <tr>\n      <th>mae&gt;2</th>\n      <td>0.5090</td>\n      <td>0.4740</td>\n      <td>1.7350</td>\n      <td>0.8390</td>\n      <td>0.6840</td>\n      <td>1.3530</td>\n    </tr>\n    <tr>\n      <th>mse&gt;2</th>\n      <td>0.7120</td>\n      <td>0.6950</td>\n      <td>3.4470</td>\n      <td>1.1590</td>\n      <td>0.9170</td>\n      <td>2.4190</td>\n    </tr>\n    <tr>\n      <th>mae&gt;3</th>\n      <td>0.9920</td>\n      <td>0.5750</td>\n      <td>2.6700</td>\n      <td>1.4510</td>\n      <td>1.2100</td>\n      <td>2.1660</td>\n    </tr>\n    <tr>\n      <th>mse&gt;3</th>\n      <td>1.6750</td>\n      <td>1.1040</td>\n      <td>7.7890</td>\n      <td>2.8400</td>\n      <td>2.2440</td>\n      <td>5.5670</td>\n    </tr>\n    <tr>\n      <th>mae&gt;10km/h</th>\n      <td>0.1760</td>\n      <td>0.1970</td>\n      <td>0.3480</td>\n      <td>0.2030</td>\n      <td>0.2250</td>\n      <td>0.4140</td>\n    </tr>\n    <tr>\n      <th>mse&gt;10km/h</th>\n      <td>0.0740</td>\n      <td>0.0880</td>\n      <td>0.2580</td>\n      <td>0.0870</td>\n      <td>0.1040</td>\n      <td>0.3040</td>\n    </tr>\n    <tr>\n      <th>max_absolute_diff</th>\n      <td>0.4460</td>\n      <td>0.4470</td>\n      <td>0.9210</td>\n      <td>0.6370</td>\n      <td>0.6870</td>\n      <td>1.0520</td>\n    </tr>\n  </tbody>\n</table>\n</div>"
     },
     "execution_count": 13,
     "metadata": {},
     "output_type": "execute_result"
    }
   ],
   "source": [
    "# random train test split\n",
    "target_name = 'target_left'\n",
    "# target_name = 'target_forward'\n",
    "results = pd.DataFrame()\n",
    "\n",
    "# get splits\n",
    "df_train, df_train_meta, df_test = split_randomly(df, generate_nans=True, consider_accel=True, consider_gyro=True, consider_gps=True, train_size=0.8, base_learner_size=0.8, exist_prob_train=1, exist_prob_test=0.9, na_whole_trips=False, chunk_size=30)\n",
    "\n",
    "# train models\n",
    "model_dict = train_models_weighted(df_train, df_train_meta, target_name)\n",
    "\n",
    "# make predictions\n",
    "df_y = make_predictions(model_dict, df_test, target_name)\n",
    "\n",
    "# also return the train test dataframes in a dict\n",
    "df_y, data_dict = make_predictions(model_dict, df_test, target_name, return_dfs=True)\n",
    "\n",
    "# get results\n",
    "y_train_avg = df_train[target_name].mean()\n",
    "df_results = get_results(df_y, df_test, target_name, y_train_avg, meta_only=False)"
   ],
   "metadata": {
    "collapsed": false,
    "ExecuteTime": {
     "end_time": "2023-08-22T11:14:53.997712Z",
     "start_time": "2023-08-22T11:14:53.958997Z"
    }
   }
  },
  {
   "cell_type": "markdown",
   "source": [
    "# Save predictions"
   ],
   "metadata": {
    "collapsed": false,
    "ExecuteTime": {
     "end_time": "2023-08-22T11:15:52.503195Z",
     "start_time": "2023-08-22T11:15:52.438407Z"
    }
   },
   "outputs": [
    {
     "name": "stdout",
     "output_type": "stream",
     "text": [
      "file saved to /home/stud03/data_science_challenge/Louis/files_huk/results/short_trips_forward_90.pkl\n"
     ]
    }
   ],
   "execution_count": 15
  },
  {
   "cell_type": "code",
   "execution_count": 11,
   "outputs": [
    {
     "name": "stdout",
     "output_type": "stream",
     "text": [
      "file saved to /home/stud03/data_science_challenge/Louis/files_huk/results/short_trips_left.pkl\n"
     ]
    }
   ],
   "source": [
    "export_to_streamlit(df_y, df_test, save_path='/home/stud03/data_science_challenge/Louis/files_huk/models/results/whole_trips_left_90.pkl')"
   ],
   "metadata": {
    "collapsed": false,
    "ExecuteTime": {
     "end_time": "2023-08-22T11:12:33.340963Z",
     "start_time": "2023-08-22T11:12:33.280335Z"
    }
   }
  },
  {
   "cell_type": "markdown",
   "source": [
    "# Predictions on trips with Sensor failures (invalid tags)"
   ],
   "metadata": {
    "collapsed": false,
    "ExecuteTime": {
     "end_time": "2023-06-15T13:18:43.375523Z",
     "start_time": "2023-06-15T13:18:43.349557Z"
    }
   },
   "outputs": [
    {
     "data": {
      "text/plain": "gps_valid      0.974849\ngyro_valid     0.810127\naccel_valid    0.810127\ndtype: float64"
     },
     "execution_count": 22,
     "metadata": {},
     "output_type": "execute_result"
    }
   ],
   "execution_count": 22
  },
  {
   "cell_type": "code",
   "execution_count": 25,
   "outputs": [
    {
     "name": "stderr",
     "output_type": "stream",
     "text": [
      "2023-08-07 08:38:33.677 WARNING streamlit.runtime.caching.cache_data_api: No runtime found, using MemoryCacheStorageManager\n",
      "2023-08-07 08:38:33.680 WARNING streamlit.runtime.caching.cache_data_api: No runtime found, using MemoryCacheStorageManager\n"
     ]
    },
    {
     "name": "stdout",
     "output_type": "stream",
     "text": [
      "(1253578, 113)\n"
     ]
    }
   ],
   "source": [
    "df_inc = load_data(save_dir = '/home/stud03/data_science_challenge/data/V3', dropna=False, drop_accel_invalid=False, drop_gps_invalid=False, drop_gyro_invalid=False)\n",
    "\n",
    "# only keep driveID which have invalid entries\n",
    "corrupt_drive_ids_accel = set(df_inc[df_inc['accel_valid'] == 0]['driveID'])\n",
    "corrupt_drive_ids_gyro = set(df_inc[df_inc['gyro_valid'] == 0]['driveID'])\n",
    "corrupt_drive_ids_gps = set(df_inc[df_inc['gps_valid'] == 0]['driveID'])\n",
    "df_inc = df_inc[df_inc['driveID'].isin(corrupt_drive_ids_gps.union(corrupt_drive_ids_gyro, corrupt_drive_ids_gps))]\n",
    "print(df_inc.shape)\n",
    "\n",
    "df_inc = df_inc.drop(columns=['gps_lat', 'gps_long', 'gps_lat_m', 'gps_long_m'])"
   ],
   "metadata": {
    "collapsed": false,
    "ExecuteTime": {
     "end_time": "2023-08-07T08:39:26.843202Z",
     "start_time": "2023-08-07T08:38:33.545910Z"
    }
   }
  },
  {
   "cell_type": "code",
   "execution_count": 92,
   "outputs": [
    {
     "data": {
      "text/plain": "gps_valid      0.974849\ngyro_valid     0.810127\naccel_valid    0.810127\ndtype: float64"
     },
     "execution_count": 92,
     "metadata": {},
     "output_type": "execute_result"
    }
   ],
   "source": [
    "# missing data\n",
    "df_inc[['gps_valid', 'gyro_valid', 'accel_valid']].sum() / len(df_inc)"
   ],
   "metadata": {
    "collapsed": false,
    "ExecuteTime": {
     "end_time": "2023-07-06T12:16:25.688912Z",
     "start_time": "2023-07-06T12:16:25.612846Z"
    }
   }
  },
  {
   "cell_type": "code",
   "execution_count": null,
   "outputs": [],
   "source": [
    "# make predictions\n",
    "df_y = make_predictions(model_dict, df_inc, target_name, return_dfs=True)\n",
    "\n",
    "# is needed to calculate the out of sample r^2. its the average accel in the training set\n",
    "y_train_avg_forward = 0.0525226\n",
    "y_train_avg_forward = 0.0545226\n",
    "\n",
    "df_results = get_results(df_y, df_test, target_name, y_train_avg_forward, meta_only=False)"
   ],
   "metadata": {
    "collapsed": false
   }
  },
  {
   "cell_type": "code",
   "execution_count": 96,
   "outputs": [
    {
     "data": {
      "text/plain": "                   meta_model_pred  accel_pred  gyro_model_pred   \nr2                          0.8230      0.6940           0.2420  \\\nmae                         0.1892      0.2285           0.3918   \nmse                         0.0780      0.1350           0.3340   \nmae>2                       0.4180      0.6700           1.8750   \nmse>2                       0.3770      1.2220           4.0290   \nmae>3                       1.0170      1.0170           2.8910   \nmse>3                       1.4890      2.8130           9.1250   \nmae>10km/h                  0.2010      0.2500           0.4160   \nmse>10km/h                  0.0810      0.1460           0.3560   \nmax_absolute_diff           0.7210      0.9130           1.5080   \n\n                   gps_model_pred  gps_weighted_model_pred   \nr2                          0.709                   0.6130  \\\nmae                         0.236                   0.2811   \nmse                         0.128                   0.1710   \nmae>2                       0.775                   0.5970   \nmse>2                       0.968                   0.6800   \nmae>3                       1.465                   1.1740   \nmse>3                       2.876                   2.1970   \nmae>10km/h                  0.241                   0.2780   \nmse>10km/h                  0.121                   0.1550   \nmax_absolute_diff           1.012                   1.1630   \n\n                   gyro_weighted_model_pred  \nr2                                   0.1030  \nmae                                  0.4613  \nmse                                  0.3960  \nmae>2                                1.6070  \nmse>2                                3.3190  \nmae>3                                2.5680  \nmse>3                                7.6770  \nmae>10km/h                           0.4660  \nmse>10km/h                           0.4010  \nmax_absolute_diff                    1.5840  ",
      "text/html": "<div>\n<style scoped>\n    .dataframe tbody tr th:only-of-type {\n        vertical-align: middle;\n    }\n\n    .dataframe tbody tr th {\n        vertical-align: top;\n    }\n\n    .dataframe thead th {\n        text-align: right;\n    }\n</style>\n<table border=\"1\" class=\"dataframe\">\n  <thead>\n    <tr style=\"text-align: right;\">\n      <th></th>\n      <th>meta_model_pred</th>\n      <th>accel_pred</th>\n      <th>gyro_model_pred</th>\n      <th>gps_model_pred</th>\n      <th>gps_weighted_model_pred</th>\n      <th>gyro_weighted_model_pred</th>\n    </tr>\n  </thead>\n  <tbody>\n    <tr>\n      <th>r2</th>\n      <td>0.8230</td>\n      <td>0.6940</td>\n      <td>0.2420</td>\n      <td>0.709</td>\n      <td>0.6130</td>\n      <td>0.1030</td>\n    </tr>\n    <tr>\n      <th>mae</th>\n      <td>0.1892</td>\n      <td>0.2285</td>\n      <td>0.3918</td>\n      <td>0.236</td>\n      <td>0.2811</td>\n      <td>0.4613</td>\n    </tr>\n    <tr>\n      <th>mse</th>\n      <td>0.0780</td>\n      <td>0.1350</td>\n      <td>0.3340</td>\n      <td>0.128</td>\n      <td>0.1710</td>\n      <td>0.3960</td>\n    </tr>\n    <tr>\n      <th>mae&gt;2</th>\n      <td>0.4180</td>\n      <td>0.6700</td>\n      <td>1.8750</td>\n      <td>0.775</td>\n      <td>0.5970</td>\n      <td>1.6070</td>\n    </tr>\n    <tr>\n      <th>mse&gt;2</th>\n      <td>0.3770</td>\n      <td>1.2220</td>\n      <td>4.0290</td>\n      <td>0.968</td>\n      <td>0.6800</td>\n      <td>3.3190</td>\n    </tr>\n    <tr>\n      <th>mae&gt;3</th>\n      <td>1.0170</td>\n      <td>1.0170</td>\n      <td>2.8910</td>\n      <td>1.465</td>\n      <td>1.1740</td>\n      <td>2.5680</td>\n    </tr>\n    <tr>\n      <th>mse&gt;3</th>\n      <td>1.4890</td>\n      <td>2.8130</td>\n      <td>9.1250</td>\n      <td>2.876</td>\n      <td>2.1970</td>\n      <td>7.6770</td>\n    </tr>\n    <tr>\n      <th>mae&gt;10km/h</th>\n      <td>0.2010</td>\n      <td>0.2500</td>\n      <td>0.4160</td>\n      <td>0.241</td>\n      <td>0.2780</td>\n      <td>0.4660</td>\n    </tr>\n    <tr>\n      <th>mse&gt;10km/h</th>\n      <td>0.0810</td>\n      <td>0.1460</td>\n      <td>0.3560</td>\n      <td>0.121</td>\n      <td>0.1550</td>\n      <td>0.4010</td>\n    </tr>\n    <tr>\n      <th>max_absolute_diff</th>\n      <td>0.7210</td>\n      <td>0.9130</td>\n      <td>1.5080</td>\n      <td>1.012</td>\n      <td>1.1630</td>\n      <td>1.5840</td>\n    </tr>\n  </tbody>\n</table>\n</div>"
     },
     "execution_count": 96,
     "metadata": {},
     "output_type": "execute_result"
    }
   ],
   "source": [
    "# results forward\n",
    "df_results"
   ],
   "metadata": {
    "collapsed": false,
    "ExecuteTime": {
     "end_time": "2023-07-06T12:19:14.230347Z",
     "start_time": "2023-07-06T12:19:14.030380Z"
    }
   }
  },
  {
   "cell_type": "markdown",
   "source": [
    "# Predictions on whole Trips"
   ],
   "metadata": {
    "collapsed": false
   }
  },
  {
   "cell_type": "markdown",
   "source": [],
   "metadata": {
    "collapsed": false
   }
  },
  {
   "cell_type": "code",
   "execution_count": 3,
   "outputs": [],
   "source": [
    "df_trips = pd.read_pickle('/home/stud03/data_science_challenge/data/whole_trips/1hz_trips.pkl')"
   ],
   "metadata": {
    "collapsed": false,
    "ExecuteTime": {
     "end_time": "2023-08-07T12:53:55.737522Z",
     "start_time": "2023-08-07T12:53:55.418701Z"
    }
   }
  },
  {
   "cell_type": "code",
   "execution_count": 4,
   "outputs": [],
   "source": [
    "df_trips = df_trips.drop(columns=['gps_lat', 'gps_long', 'gps_lat_m', 'gps_long_m'])"
   ],
   "metadata": {
    "collapsed": false,
    "ExecuteTime": {
     "end_time": "2023-08-07T12:54:02.979022Z",
     "start_time": "2023-08-07T12:54:02.895928Z"
    }
   }
  },
  {
   "cell_type": "code",
   "execution_count": 5,
   "outputs": [
    {
     "data": {
      "text/plain": "gps_valid      0.977889\ngyro_valid     0.993287\naccel_valid    0.993287\ndtype: float64"
     },
     "execution_count": 5,
     "metadata": {},
     "output_type": "execute_result"
    }
   ],
   "source": [
    "df_trips[['gps_valid', 'gyro_valid', 'accel_valid']].sum() / len(df_trips)"
   ],
   "metadata": {
    "collapsed": false,
    "ExecuteTime": {
     "end_time": "2023-08-07T12:54:04.241280Z",
     "start_time": "2023-08-07T12:54:04.201742Z"
    }
   }
  },
  {
   "cell_type": "code",
   "execution_count": 12,
   "outputs": [],
   "source": [
    "# get it to the same amount of features as df\n",
    "df = df.drop(columns='groupID')\n",
    "df_trips = df_trips[df.columns]"
   ],
   "metadata": {
    "collapsed": false,
    "ExecuteTime": {
     "end_time": "2023-08-07T07:22:51.135302Z",
     "start_time": "2023-08-07T07:22:50.716796Z"
    }
   }
  },
  {
   "cell_type": "code",
   "execution_count": 11,
   "outputs": [],
   "source": [
    "df_trips = df_trips.drop(columns=df_trips.columns[df_trips.columns.str.contains('valid_')])"
   ],
   "metadata": {
    "collapsed": false,
    "ExecuteTime": {
     "end_time": "2023-08-07T12:56:21.576395Z",
     "start_time": "2023-08-07T12:56:21.415349Z"
    }
   }
  },
  {
   "cell_type": "code",
   "execution_count": 97,
   "outputs": [],
   "source": [
    "# random train test split\n",
    "target_name = 'target_left'\n",
    "results = pd.DataFrame()\n",
    "\n",
    "# get splits\n",
    "df_train, df_train_meta, df_test = split_randomly(df_trips, generate_nans=True, consider_accel=True, consider_gyro=True, consider_gps=True, train_size=0.8, base_learner_size=0.8, exist_prob_train=0.9, exist_prob_test=0.9, na_whole_trips=False, chunk_size=60)\n",
    "\n",
    "# train models\n",
    "model_dict = train_models_weighted(df_train, df_train_meta, target_name)"
   ],
   "metadata": {
    "collapsed": false,
    "ExecuteTime": {
     "end_time": "2023-08-07T14:32:36.304087Z",
     "start_time": "2023-08-07T14:32:22.586644Z"
    }
   }
  },
  {
   "cell_type": "code",
   "execution_count": 98,
   "outputs": [
    {
     "data": {
      "text/plain": "                   meta_model_pred  accel_pred  gyro_model_pred   \nr2                          0.8740      0.8200           0.7770  \\\nmae                         0.1425      0.1524           0.1834   \nmse                         0.0580      0.0830           0.1030   \nmae>2                       0.4300      0.5450           0.7310   \nmse>2                       0.3920      0.8140           1.0840   \nmae>3                       0.5130      0.6250           1.0940   \nmse>3                       0.5240      1.3140           2.0790   \nmae>10km/h                  0.1490      0.1630           0.1910   \nmse>10km/h                  0.0610      0.0880           0.1030   \nmax_absolute_diff           2.0700      2.3600           2.8090   \n\n                   gps_model_pred  gps_weighted_model_pred   \nr2                         0.5540                   0.5060  \\\nmae                        0.2596                   0.3062   \nmse                        0.2060                   0.2290   \nmae>2                      1.4260                   1.1860   \nmse>2                      2.7640                   2.1080   \nmae>3                      1.6850                   1.3490   \nmse>3                      3.9050                   2.7920   \nmae>10km/h                 0.2650                   0.3030   \nmse>10km/h                 0.1930                   0.2060   \nmax_absolute_diff          3.4620                   3.4090   \n\n                   gyro_weighted_model_pred  \nr2                                   0.7350  \nmae                                  0.2227  \nmse                                  0.1230  \nmae>2                                0.6170  \nmse>2                                0.8720  \nmae>3                                0.8880  \nmse>3                                1.6230  \nmae>10km/h                           0.2250  \nmse>10km/h                           0.1200  \nmax_absolute_diff                    2.8940  ",
      "text/html": "<div>\n<style scoped>\n    .dataframe tbody tr th:only-of-type {\n        vertical-align: middle;\n    }\n\n    .dataframe tbody tr th {\n        vertical-align: top;\n    }\n\n    .dataframe thead th {\n        text-align: right;\n    }\n</style>\n<table border=\"1\" class=\"dataframe\">\n  <thead>\n    <tr style=\"text-align: right;\">\n      <th></th>\n      <th>meta_model_pred</th>\n      <th>accel_pred</th>\n      <th>gyro_model_pred</th>\n      <th>gps_model_pred</th>\n      <th>gps_weighted_model_pred</th>\n      <th>gyro_weighted_model_pred</th>\n    </tr>\n  </thead>\n  <tbody>\n    <tr>\n      <th>r2</th>\n      <td>0.8740</td>\n      <td>0.8200</td>\n      <td>0.7770</td>\n      <td>0.5540</td>\n      <td>0.5060</td>\n      <td>0.7350</td>\n    </tr>\n    <tr>\n      <th>mae</th>\n      <td>0.1425</td>\n      <td>0.1524</td>\n      <td>0.1834</td>\n      <td>0.2596</td>\n      <td>0.3062</td>\n      <td>0.2227</td>\n    </tr>\n    <tr>\n      <th>mse</th>\n      <td>0.0580</td>\n      <td>0.0830</td>\n      <td>0.1030</td>\n      <td>0.2060</td>\n      <td>0.2290</td>\n      <td>0.1230</td>\n    </tr>\n    <tr>\n      <th>mae&gt;2</th>\n      <td>0.4300</td>\n      <td>0.5450</td>\n      <td>0.7310</td>\n      <td>1.4260</td>\n      <td>1.1860</td>\n      <td>0.6170</td>\n    </tr>\n    <tr>\n      <th>mse&gt;2</th>\n      <td>0.3920</td>\n      <td>0.8140</td>\n      <td>1.0840</td>\n      <td>2.7640</td>\n      <td>2.1080</td>\n      <td>0.8720</td>\n    </tr>\n    <tr>\n      <th>mae&gt;3</th>\n      <td>0.5130</td>\n      <td>0.6250</td>\n      <td>1.0940</td>\n      <td>1.6850</td>\n      <td>1.3490</td>\n      <td>0.8880</td>\n    </tr>\n    <tr>\n      <th>mse&gt;3</th>\n      <td>0.5240</td>\n      <td>1.3140</td>\n      <td>2.0790</td>\n      <td>3.9050</td>\n      <td>2.7920</td>\n      <td>1.6230</td>\n    </tr>\n    <tr>\n      <th>mae&gt;10km/h</th>\n      <td>0.1490</td>\n      <td>0.1630</td>\n      <td>0.1910</td>\n      <td>0.2650</td>\n      <td>0.3030</td>\n      <td>0.2250</td>\n    </tr>\n    <tr>\n      <th>mse&gt;10km/h</th>\n      <td>0.0610</td>\n      <td>0.0880</td>\n      <td>0.1030</td>\n      <td>0.1930</td>\n      <td>0.2060</td>\n      <td>0.1200</td>\n    </tr>\n    <tr>\n      <th>max_absolute_diff</th>\n      <td>2.0700</td>\n      <td>2.3600</td>\n      <td>2.8090</td>\n      <td>3.4620</td>\n      <td>3.4090</td>\n      <td>2.8940</td>\n    </tr>\n  </tbody>\n</table>\n</div>"
     },
     "execution_count": 98,
     "metadata": {},
     "output_type": "execute_result"
    }
   ],
   "source": [
    "# mit left\n",
    "# make predictions\n",
    "df_y = make_predictions(model_dict, df_test, target_name, return_dfs=False)\n",
    "\n",
    "# get results\n",
    "y_train_avg = df_train[target_name].mean()\n",
    "df_results = get_results(df_y, df_test, target_name, y_train_avg, meta_only=False)\n",
    "df_results"
   ],
   "metadata": {
    "collapsed": false,
    "ExecuteTime": {
     "end_time": "2023-08-07T14:32:52.827694Z",
     "start_time": "2023-08-07T14:32:51.279828Z"
    }
   }
  },
  {
   "cell_type": "code",
   "execution_count": 99,
   "outputs": [
    {
     "name": "stdout",
     "output_type": "stream",
     "text": [
      "file saved to /home/stud03/data_science_challenge/Louis/files_huk/models/results/whole_trips_90_left.pkl\n"
     ]
    }
   ],
   "source": [
    "export_to_streamlit(df_y, df_test, save_path='/home/stud03/data_science_challenge/Louis/files_huk/models/results/whole_trips_left_90.pkl')"
   ],
   "metadata": {
    "collapsed": false,
    "ExecuteTime": {
     "end_time": "2023-08-07T14:33:17.751248Z",
     "start_time": "2023-08-07T14:33:17.695632Z"
    }
   }
  },
  {
   "cell_type": "markdown",
   "source": [
    "# SHAP Values"
   ],
   "metadata": {
    "collapsed": false,
    "ExecuteTime": {
     "end_time": "2023-08-22T11:18:52.106317Z",
     "start_time": "2023-08-22T11:18:52.058243Z"
    }
   },
   "outputs": [],
   "execution_count": 17
  },
  {
   "cell_type": "code",
   "execution_count": null,
   "outputs": [],
   "source": [
    "model = model_dict['meta_model']\n",
    "\n",
    "# hier den entsprechenden datensatz aus data_dict auswählen\n",
    "#X_test ="
   ],
   "metadata": {
    "collapsed": false
   }
  },
  {
   "cell_type": "code",
   "execution_count": 95,
   "outputs": [
    {
     "data": {
      "text/plain": "<Figure size 1000x700 with 1 Axes>",
      "image/png": "[encoded data removed]"
     },
     "metadata": {},
     "output_type": "display_data"
    }
   ],
   "source": [
    "# Shap Explainer (Forward)\n",
    "explainer = shap.Explainer(model)\n",
    "shap_values = explainer(X_test)\n",
    "custom_shap_bar_plot(copy.deepcopy(shap_values.values), X_test.columns, max_display=10, fig_size=(10, 7), color='#4A9C8C', filesave=f'/home/stud03/data_science_challenge/Louis/files_huk/plots/{target_name}_shap_meta_on_invalids.png')"
   ],
   "metadata": {
    "collapsed": false
   }
  },
  {
   "cell_type": "code",
   "execution_count": null,
   "outputs": [],
   "source": [
    "# Shap Explainer (Left)\n",
    "explainer = shap.Explainer(model)\n",
    "shap_values = explainer(X_test)\n",
    "custom_shap_bar_plot(copy.deepcopy(shap_values.values), X_test.columns, max_display=10, fig_size=(10, 7), color='#4A9C8C', filesave=f'/home/stud03/data_science_challenge/Louis/files_huk/plots/{target_name}_shap_meta_on_invalids.png')"
   ],
   "metadata": {
    "collapsed": false
   }
  },
  {
   "cell_type": "code",
   "execution_count": 87,
   "outputs": [
    {
     "data": {
      "text/plain": "<Figure size 800x450 with 3 Axes>",
      "image/png": "[encoded data removed]"
     },
     "metadata": {},
     "output_type": "display_data"
    }
   ],
   "source": [
    "shap.plots.waterfall(shap_values[6229])"
   ],
   "metadata": {
    "collapsed": false
   }
  }
 ],
 "metadata": {
  "kernelspec": {
   "display_name": "Python 3",
   "language": "python",
   "name": "python3"
  },
  "language_info": {
   "codemirror_mode": {
    "name": "ipython",
    "version": 2
   },
   "file_extension": ".py",
   "mimetype": "text/x-python",
   "name": "python",
   "nbconvert_exporter": "python",
   "pygments_lexer": "ipython2",
   "version": "2.7.6"
  }
 },
 "nbformat": 4,
 "nbformat_minor": 0
}
